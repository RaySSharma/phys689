{
 "cells": [
  {
   "cell_type": "markdown",
   "metadata": {},
   "source": [
    "# Week 3"
   ]
  },
  {
   "cell_type": "markdown",
   "metadata": {},
   "source": [
    "Homework for week 4: read ch4A, propose term project for approval by Oct 1"
   ]
  },
  {
   "cell_type": "markdown",
   "metadata": {},
   "source": [
    "3.2 - Be familiar with notation & definitions\n",
    "\n",
    "    - For mean they use\n",
    "$$\\mu = E(x)$$\n",
    "    \n",
    "    - The 4th moment, kurtosis, has a -3 in the definition because its normalized so the kurtosis gives 0 for a normal distribution\n",
    "    \n",
    "    - quantiles are essentially percentiles \n",
    "3.3 - Common distribution functions\n",
    "\n",
    "    - Shifting and rescaling preserve type, skewness, kurtosis"
   ]
  },
  {
   "cell_type": "markdown",
   "metadata": {},
   "source": [
    "### Uniform\n",
    "$$p(x|\\mu,W) = \\frac{1}{W}$$ for $$|x-\\mu| \\leq \\frac{W}{2}$$\n",
    "\n",
    "e.g, photons hitting a CCD pixel"
   ]
  },
  {
   "cell_type": "markdown",
   "metadata": {},
   "source": [
    "### Gaussian\n",
    "Gaussian = Normal \n",
    "$$N(\\mu,\\sigma^2)$$\n",
    "$$p(x|\\mu,\\sigma) = \\frac{1}{\\sigma\\sqrt{2\\pi}} \\exp{-(x-\\mu)^2 / 2\\sigma^2}$$\n",
    "\n",
    "e.g, bell curve for many exam results\n",
    "\n",
    "    - The convolution of 2 Gaussians is Gaussian, where the convolution is:\n",
    "$$(fog)(x) = \\int^{\\infty}_{\\infty} f(x')g(x-x')dx'$$\n",
    "\n",
    "    - The Fourier transform of a Gaussian is Gaussian\n",
    "    \n",
    "    - Gaussian distribution with Gaussian measurement errors are a convolution, which adjusts the mean and sigma.\n",
    "$$\\mu = \\mu_0 + b$$\n",
    "$$\\sigma_3 ^2 = \\sigma_1 ^2 + \\sigma_2 ^2$$\n",
    "    \n",
    "    - The CDF of a Gaussian:\n",
    "$$P(x|\\mu,\\sigma) = \\frac{1}{2}(1\\pm erf(\\frac{|x-\\mu}{\\sigma\\sqrt{2}}))$$\n",
    "    gives confidence intervals"
   ]
  },
  {
   "cell_type": "markdown",
   "metadata": {},
   "source": [
    "### Binomial\n",
    "    - Discrete, probability of success b, N trials, k successes\n",
    "$$p(k|b,N) = \\frac{N!}{k!(N-k)!}b^k(1-b)^{N-k}$$\n",
    "\n",
    "### Poisson\n",
    "    - Binomial, but in the limit\n",
    "$$ N \\to \\infty$$\n",
    "    or low probability of success\n",
    "    \n",
    "    - As mu goes to infinity, limit of Poisson is\n",
    "$$ N(\\mu, \\sqrt{\\mu})$$\n",
    "\n",
    "$$ p(k|\\mu) = \\frac{\\mu^k e^{-\\mu}}{k!}$$"
   ]
  },
  {
   "cell_type": "markdown",
   "metadata": {},
   "source": [
    "### Cauchy (Lorentzian)\n",
    "$$p(x|\\mu,\\gamma) = \\frac{1}{\\pi \\gamma}(\\frac{\\gamma^2}{\\gamma^2 + (x-\\mu)^2})$$\n",
    "    - Moments become divergent, even the first moment. Hence measuring the mean many times will not converge to a single value.\n",
    "    \n",
    "    - Ratio of normally distributed variables\n",
    "    "
   ]
  },
  {
   "cell_type": "markdown",
   "metadata": {},
   "source": [
    "### Exponential (Laplace)\n",
    "$$p(x|\\mu,\\Delta) = \\frac{1}{2\\Delta}\\exp(-|x-\\mu|/\\Delta)$$\n",
    "    - More well-behaved than Cauchy, try exponential before Cauchy!\n",
    "    \n",
    "    - Difference between normally distributed variables (e.g, time between photon detections from continuous sources)"
   ]
  },
  {
   "cell_type": "markdown",
   "metadata": {},
   "source": [
    "### Chi-squared\n",
    "    - For Gaussian-sampled data, define\n",
    "$$z_i = (x_i - \\mu)/\\sigma$$\n",
    "    and the sum\n",
    "$$Q = \\sum z_i ^2$$\n",
    "    follows a chi-squared distribution\n",
    "$$p(Q|k) = \\chi^2(Q|k) = \\frac{1}{2^{k/2} \\Gamma(k/2)}Q^{k/2 - 1} e^{-Q/2}$$\n",
    "    - Rule of thumb\n",
    "$$\\chi^2 \\to N(1, \\sqrt{2/k})$$\n",
    "as\n",
    "$$k \\to \\infty$$\n",
    "    e.g, for 10 degrees of freedom, chi-squared is roughly 10 "
   ]
  },
  {
   "cell_type": "markdown",
   "metadata": {},
   "source": [
    "### Student's t\n",
    "    - The ratio of a normal variable to a chi-squared distributed variable\n",
    "    \n",
    "    - Used to compare means between two samples\n",
    "    \n",
    "### Fisher's F\n",
    "    - Ratio of two independent chi-squared d.o.f. variables drawn from d1 and d2 degrees of freedom"
   ]
  },
  {
   "cell_type": "markdown",
   "metadata": {},
   "source": [
    "## Central Limit Theorem\n",
    "    - For an arbitrary distribution, h(x), that has a mean and standard deviation, as the number of values you draw, N, goes to infinity, the mean of N goes to a normal distribution:\n",
    "$$\\mu(N) \\to N(\\mu, \\sigma/\\sqrt{N})$$\n",
    "    \n",
    "    - The CLM is not guaranteed to apply to distributions without mean, sigma e.g, Cauchy"
   ]
  },
  {
   "cell_type": "markdown",
   "metadata": {},
   "source": [
    "## Multivariate Distribution Functions\n",
    "    - Consider two values measured, xi and yi drawn from h(x,y) gives\n",
    "$$p(x_i \\in (x,x+dx), y_i \\in (y,y+dy)) $$\n",
    "    normalized to 1\n",
    "    \n",
    "    - The covariance\n",
    "$$Cov(x,y) = V_{xy} = \\int \\int (x-\\mu_x)(y-\\mu_y)h(x,y)dxdy$$\n",
    "    where $\\mu_x$ etc are also doubly integrated\n",
    "    \n",
    "    - There is no covariance iff\n",
    "$$\\sigma_{xy} = 0, h(x,y) = h(x)h(y)$$\n",
    "    otherwise\n",
    "$$\\sigma^2(z=x+y) = \\sigma_x^2 + \\sigma_y^2 + 2\\sigma_{xy}$$\n",
    "\n",
    "### 2-D Gaussian\n",
    "$$p(x,y|\\mu_x,\\mu_y,\\sigma_x,\\sigma_y,\\sigma_{xy}) = \\frac{1}{2\\pi \\sigma_x\\sigma_y\\sqrt{1-\\rho^2}} = e^{-\\frac{-z^2}{2(1-\\rho^2)}}$$\n",
    "    where\n",
    "$$\\rho = \\frac{\\sigma_{xy}}{\\sigma_x\\sigma_y}$$\n",
    "    is the dimensionless correlation coefficient\n",
    "    and\n",
    "$$z = \\frac{(x-\\mu_x)^2}{\\sigma_x^2}\\frac{(y-\\mu_y)^2}{\\sigma_y^2} - \\frac{2\\rho (x-\\mu_x)(y-\\mu_y)}{\\sigma_x\\sigma_y}$$\n",
    "    \n",
    "    - Notice this works as expected for $\\rho = 0$, but not for plus or minus 1\n",
    "    \n",
    "    - Marginal distributions are standard 1D Gaussians independent of covariance\n",
    "    \n",
    "### Contours\n",
    "    - Contours of equal probability are ellipses with\n",
    "$$\\tan(2\\alpha) = 2\\frac{\\sigma_{xy}}{\\sigma_x^2 - \\sigma_y^2}$$\n",
    "    for tilt $\\alpha$.\n",
    "\n",
    "    - Can define uncorrelated variables on principal axes P1 and P2 with new standard deviations.\n",
    "    \n",
    "    - This gives us a product of univariate Gaussians in P1 and P2, and let us generate mock samples drawn from a bivariate Gaussian.\n",
    "    \n",
    "    - Given a 2D data distribution with scatter much greater than the measurement errors, we can estimate a bivariate Gaussian distribution using section 3.5.3, fitting 5 parameters\n",
    "    \n",
    "    - If your data is not actually bivariate Gaussian distributed (has many outliers), then a robust fit would likely use the median and interquartile ranges)\n",
    "    \n",
    "    - Can also find principal axes with Pearson r"
   ]
  },
  {
   "cell_type": "markdown",
   "metadata": {},
   "source": [
    "# Hack"
   ]
  },
  {
   "cell_type": "markdown",
   "metadata": {},
   "source": [
    "## Hack 1 - Trees"
   ]
  },
  {
   "cell_type": "code",
   "execution_count": 7,
   "metadata": {
    "ExecuteTime": {
     "end_time": "2019-09-23T18:08:02.847196Z",
     "start_time": "2019-09-23T18:08:01.731597Z"
    }
   },
   "outputs": [],
   "source": [
    "import numpy as np\n",
    "import matplotlib.pyplot as plt\n",
    "\n",
    "from scipy.spatial import cKDTree"
   ]
  },
  {
   "cell_type": "code",
   "execution_count": 8,
   "metadata": {
    "ExecuteTime": {
     "end_time": "2019-09-23T18:08:37.100169Z",
     "start_time": "2019-09-23T18:08:30.389978Z"
    }
   },
   "outputs": [],
   "source": [
    "from astroML.datasets import fetch_sdss_S82standards\n",
    "\n",
    "data = fetch_sdss_S82standards()"
   ]
  },
  {
   "cell_type": "code",
   "execution_count": 82,
   "metadata": {
    "ExecuteTime": {
     "end_time": "2019-09-23T18:31:16.939383Z",
     "start_time": "2019-09-23T18:31:16.905066Z"
    }
   },
   "outputs": [],
   "source": [
    "g = data['mmu_g']\n",
    "r = data['mmu_r']\n",
    "i = data['mmu_i']\n",
    "\n",
    "gmr = (g-r)[:10000]\n",
    "rmi = (r-i)[:10000]"
   ]
  },
  {
   "cell_type": "code",
   "execution_count": 83,
   "metadata": {
    "ExecuteTime": {
     "end_time": "2019-09-23T18:31:17.446648Z",
     "start_time": "2019-09-23T18:31:17.438499Z"
    }
   },
   "outputs": [],
   "source": [
    "coords = np.array([gmr,rmi]).T\n",
    "\n",
    "\n",
    "obj_ix = (gmr > 1.5)&(rmi < 0)\n",
    "coords_obj = coords[obj_ix]\n",
    "\n",
    "def find_neighbor_tree(coords, coords_obj):\n",
    "    tree = cKDTree(coords)\n",
    "    nearest = tree.query(coords_obj, 2)\n",
    "    ix = nearest[1][0][1]\n",
    "    return ix\n",
    "\n",
    "def find_neighbor_brute(coords, coords_obj):\n",
    "    distance = []\n",
    "    for coord in coords:\n",
    "        distance += [np.linalg.norm(coord - coords_obj)]\n",
    "    distance = np.asarray(distance)\n",
    "    ix = np.argmin(distance[distance > 0])\n",
    "    return ix"
   ]
  },
  {
   "cell_type": "markdown",
   "metadata": {},
   "source": [
    "Find nearest neighbor with cKDTree"
   ]
  },
  {
   "cell_type": "code",
   "execution_count": 84,
   "metadata": {
    "ExecuteTime": {
     "end_time": "2019-09-23T18:31:22.202578Z",
     "start_time": "2019-09-23T18:31:19.253146Z"
    },
    "scrolled": true
   },
   "outputs": [
    {
     "name": "stdout",
     "output_type": "stream",
     "text": [
      "3.63 ms ± 118 µs per loop (mean ± std. dev. of 7 runs, 100 loops each)\n"
     ]
    }
   ],
   "source": [
    "%%timeit\n",
    "ix = find_neighbor_tree(coords, coords_obj)"
   ]
  },
  {
   "cell_type": "markdown",
   "metadata": {},
   "source": [
    "Find nearest neighbor with brute force"
   ]
  },
  {
   "cell_type": "code",
   "execution_count": 85,
   "metadata": {
    "ExecuteTime": {
     "end_time": "2019-09-23T18:31:28.948564Z",
     "start_time": "2019-09-23T18:31:22.223705Z"
    }
   },
   "outputs": [
    {
     "name": "stdout",
     "output_type": "stream",
     "text": [
      "82.7 ms ± 1.36 ms per loop (mean ± std. dev. of 7 runs, 10 loops each)\n"
     ]
    }
   ],
   "source": [
    "%%timeit\n",
    "ix = find_neighbor_brute(coords, coords_obj)"
   ]
  },
  {
   "cell_type": "markdown",
   "metadata": {},
   "source": [
    "It takes approximately 22 times longer for the brute-force technique for N=10,000 points"
   ]
  },
  {
   "cell_type": "code",
   "execution_count": 74,
   "metadata": {
    "ExecuteTime": {
     "end_time": "2019-09-23T18:21:24.322180Z",
     "start_time": "2019-09-23T18:21:24.109825Z"
    }
   },
   "outputs": [
    {
     "data": {
      "text/plain": [
       "Text(0.5,0,'g-r')"
      ]
     },
     "execution_count": 74,
     "metadata": {},
     "output_type": "execute_result"
    },
    {
     "data": {
      "image/png": "[encoded data removed]",
      "text/plain": [
       "<matplotlib.figure.Figure at 0x7fbea27a5a58>"
      ]
     },
     "metadata": {},
     "output_type": "display_data"
    }
   ],
   "source": [
    "ix = find_neighbor_tree(coords, coords_obj)\n",
    "\n",
    "plt.plot(gmr, rmi, 'k.', ms=1)\n",
    "plt.plot(gmr[obj_ix], rmi[obj_ix], 'bo', ms=3)\n",
    "plt.plot(gmr[ix], rmi[ix], 'ro', ms=3)\n",
    "plt.ylabel('r-i')\n",
    "plt.xlabel('g-r')"
   ]
  },
  {
   "cell_type": "markdown",
   "metadata": {},
   "source": [
    "## Hack 2 - Monty Hall Monte Carlo"
   ]
  },
  {
   "cell_type": "markdown",
   "metadata": {},
   "source": [
    "Bayes' Rule solution for N=3:\n",
    "    The probability the prize is in the first box:\n",
    "$$p(H_1\\mid d_k, I) = \\frac{p(d_k \\mid H_1,I)p(H_1\\mid I)}{p(d_k\\mid I)}$$\n",
    "    which turns out to be:\n",
    "$$p(H_1 \\mid d_k, I) = \\frac{1}{N} = \\frac{1}{3}$$.\n",
    "    The probability the prize is rather in the unopened box, box k:\n",
    "$$p(H_k \\mid d_k, I) = \\frac{N-1}{N} = \\frac{2}{3}$$"
   ]
  },
  {
   "cell_type": "markdown",
   "metadata": {},
   "source": [
    "Now let's verify with a Monte Carlo method:"
   ]
  },
  {
   "cell_type": "code",
   "execution_count": 165,
   "metadata": {
    "ExecuteTime": {
     "end_time": "2019-09-23T23:06:35.166424Z",
     "start_time": "2019-09-23T23:06:35.152225Z"
    }
   },
   "outputs": [],
   "source": [
    "class MHMC:\n",
    "    def __init__(self, N=3, careful=True, trials=100):\n",
    "        self.N = N\n",
    "        self.careful = careful\n",
    "        self.trials = trials\n",
    "    \n",
    "    def montecarlo(self):\n",
    "        results = np.array([self.run_instance() for trial in range(self.trials)]).T\n",
    "        prob_door1 = sum(results[0]) / len(results[0])\n",
    "        prob_door2 = sum(results[1]) / len(results[1])\n",
    "        print('Probability of choosing the correct door the first time:', prob_door1)\n",
    "        print('Probability of choosing the correct door after switching:', prob_door2)\n",
    "        \n",
    "    def run_instance(self):\n",
    "        doors = self.inst_doors()\n",
    "        prize_door = self.choose_door()\n",
    "        chosen_door = self.choose_door()\n",
    "        unopened_door = self.host_open_doors(prize_door, chosen_door)\n",
    "        choice1 = chosen_door == prize_door\n",
    "        choice2 = unopened_door == prize_door\n",
    "        return [choice1, choice2]\n",
    "    \n",
    "    def inst_doors(self):\n",
    "        doors = np.zeros(self.N)\n",
    "        return doors\n",
    "    \n",
    "    def choose_door(self):\n",
    "        chosen_door = np.random.randint(0,self.N)\n",
    "        return chosen_door\n",
    "    \n",
    "    def host_open_doors(self, prize_door, chosen_door):\n",
    "        num_draws = 0\n",
    "        if self.careful:\n",
    "            available_doors = np.setdiff1d(range(0,self.N), [chosen_door, prize_door])\n",
    "        else:\n",
    "            available_doors = np.setdiff1d(range(0,self.N), chosen_door)\n",
    "        \n",
    "        while num_draws < N - 2:\n",
    "            opened_doors = np.random.choice(available_doors)\n",
    "            available_doors = np.setdiff1d(available_doors, opened_doors)\n",
    "            num_draws += 1\n",
    "        unopened_door = np.setdiff1d(range(0,self.N), [chosen_door,opened_doors])\n",
    "        \n",
    "        return unopened_door[0]\n"
   ]
  },
  {
   "cell_type": "code",
   "execution_count": 174,
   "metadata": {
    "ExecuteTime": {
     "end_time": "2019-09-23T23:09:04.296806Z",
     "start_time": "2019-09-23T23:09:02.495102Z"
    }
   },
   "outputs": [
    {
     "name": "stdout",
     "output_type": "stream",
     "text": [
      "Probability of choosing the correct door the first time: 0.3331\n",
      "Probability of choosing the correct door after switching: 0.6669\n"
     ]
    }
   ],
   "source": [
    "MHMC(trials=10000, careful=True).montecarlo()"
   ]
  },
  {
   "cell_type": "code",
   "execution_count": 175,
   "metadata": {
    "ExecuteTime": {
     "end_time": "2019-09-23T23:09:06.477781Z",
     "start_time": "2019-09-23T23:09:04.320348Z"
    }
   },
   "outputs": [
    {
     "name": "stdout",
     "output_type": "stream",
     "text": [
      "Probability of choosing the correct door the first time: 0.3272\n",
      "Probability of choosing the correct door after switching: 0.3313\n"
     ]
    }
   ],
   "source": [
    "MHMC(trials=10000, careful=False).montecarlo()"
   ]
  },
  {
   "cell_type": "code",
   "execution_count": null,
   "metadata": {},
   "outputs": [],
   "source": []
  }
 ],
 "metadata": {
  "hide_input": false,
  "kernelspec": {
   "display_name": "Python [conda env:paper1]",
   "language": "python",
   "name": "conda-env-paper1-py"
  },
  "language_info": {
   "codemirror_mode": {
    "name": "ipython",
    "version": 3
   },
   "file_extension": ".py",
   "mimetype": "text/x-python",
   "name": "python",
   "nbconvert_exporter": "python",
   "pygments_lexer": "ipython3",
   "version": "3.6.5"
  },
  "toc": {
   "base_numbering": 1,
   "nav_menu": {},
   "number_sections": true,
   "sideBar": true,
   "skip_h1_title": false,
   "title_cell": "Table of Contents",
   "title_sidebar": "Contents",
   "toc_cell": false,
   "toc_position": {},
   "toc_section_display": true,
   "toc_window_display": false
  },
  "varInspector": {
   "cols": {
    "lenName": 16,
    "lenType": 16,
    "lenVar": 40
   },
   "kernels_config": {
    "python": {
     "delete_cmd_postfix": "",
     "delete_cmd_prefix": "del ",
     "library": "var_list.py",
     "varRefreshCmd": "print(var_dic_list())"
    },
    "r": {
     "delete_cmd_postfix": ") ",
     "delete_cmd_prefix": "rm(",
     "library": "var_list.r",
     "varRefreshCmd": "cat(var_dic_list()) "
    }
   },
   "types_to_exclude": [
    "module",
    "function",
    "builtin_function_or_method",
    "instance",
    "_Feature"
   ],
   "window_display": false
  }
 },
 "nbformat": 4,
 "nbformat_minor": 2
}
