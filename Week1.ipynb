{
 "cells": [
  {
   "cell_type": "markdown",
   "metadata": {},
   "source": [
    "# Week 1"
   ]
  },
  {
   "cell_type": "markdown",
   "metadata": {},
   "source": [
    "Homework for 9/16: Read ch 1,2, appendices"
   ]
  },
  {
   "cell_type": "markdown",
   "metadata": {},
   "source": [
    "## Multivariate Statistics"
   ]
  },
  {
   "cell_type": "markdown",
   "metadata": {},
   "source": [
    "**Multivariate statistics** (ch 6,7): Measuring features of multivariable datasets"
   ]
  },
  {
   "cell_type": "markdown",
   "metadata": {},
   "source": [
    "**Data mining**: Analyzing structured data for patterns"
   ]
  },
  {
   "cell_type": "markdown",
   "metadata": {},
   "source": [
    "**Knowledge discovery**: data mining"
   ]
  },
  {
   "cell_type": "markdown",
   "metadata": {},
   "source": [
    "**Machine learning** (ch 8,10): techniques for interpreting data by comparison with models"
   ]
  },
  {
   "cell_type": "markdown",
   "metadata": {},
   "source": [
    "In physics, data mining should almost always be done with physical knowledge first. Where can unsupervised learning fit?"
   ]
  },
  {
   "cell_type": "markdown",
   "metadata": {},
   "source": [
    "Handout 2: What if we wanted to fit Gaussians to the data. We don't have errorbars on points, but there are uncertainties associated with the number of points in a given bin. It's because we are drawing from a distribution per bin -- Poisson noise"
   ]
  },
  {
   "cell_type": "markdown",
   "metadata": {},
   "source": [
    "Handout 2: In reality there are other sources of noise -- e.g, quenching drives reddening."
   ]
  },
  {
   "cell_type": "markdown",
   "metadata": {},
   "source": [
    "Handout 3: What's the right way to answer these questions? \n",
    "\n",
    "See: David Hogg's \"How to fit a line\"\n",
    "\n",
    "1) Do LAEs lie above the grey points + purple line?\n",
    "\n",
    "    - By eye, blue points lie above. We could classify and test that the populations are different, fit lines, define distance from purple fit\n",
    "\n",
    "2) By what confidence level?\n",
    "    \n",
    "    - Changes as a function of stellar mass? There are ways to interpret 'lying above\" that determine how easy confidence levels.\n",
    "    \n",
    "3) By what offset?\n",
    "    \n",
    "    - Similarly, it depends on the underlying distribution and method!\n"
   ]
  },
  {
   "cell_type": "markdown",
   "metadata": {},
   "source": [
    "## Probability Density Function h(x)"
   ]
  },
  {
   "cell_type": "markdown",
   "metadata": {},
   "source": [
    "Given some PDF $h(x)$, $h(x)dx$ gives the probability that $x$ is in ($x$,$x+dx$)"
   ]
  },
  {
   "cell_type": "markdown",
   "metadata": {},
   "source": [
    "Then the integral $\\int_{-\\infty}^{x} h(x')dx'$ is the cumulative distribution function"
   ]
  },
  {
   "cell_type": "markdown",
   "metadata": {},
   "source": [
    "Side note: random number generation from a distribution that's not Gaussian relies on uniformly sampling from the distributions CDF"
   ]
  },
  {
   "cell_type": "markdown",
   "metadata": {},
   "source": [
    "Data-derived estimate: empirical PDF $f(x)$, with $F(x)=\\int f(x)dx$, normalized to 1"
   ]
  },
  {
   "cell_type": "markdown",
   "metadata": {},
   "source": [
    "So in the limit of infinite data, will $f(x) \\to h(x)$? No, because your empirical PDF will always be convolved with measurement error. The mean will approach the truth, given no bias (by definition)"
   ]
  },
  {
   "cell_type": "markdown",
   "metadata": {},
   "source": [
    "Uncertainty: $e(x) = p(x|\\mu, I)$, where $\\mu$ is the truth and $I$ is info about measurement errors"
   ]
  },
  {
   "cell_type": "markdown",
   "metadata": {},
   "source": [
    "**Homoscedastic**: Error distribution the same in all the data points\n",
    "\n",
    "**Heteroscedastic**: Data points all have their own error distribution"
   ]
  },
  {
   "cell_type": "markdown",
   "metadata": {},
   "source": [
    "In astro, most datasets are heteroscedastic while 90% of statistical methods assume homoscedastic."
   ]
  },
  {
   "cell_type": "markdown",
   "metadata": {},
   "source": [
    "$f(x)$ is a model of $h(x)$, and we can constrain the form using parametric or non-parametric models"
   ]
  },
  {
   "cell_type": "markdown",
   "metadata": {},
   "source": []
  }
 ],
 "metadata": {
  "anaconda-cloud": {},
  "hide_input": false,
  "kernelspec": {
   "display_name": "Python 3",
   "language": "python",
   "name": "python3"
  },
  "language_info": {
   "codemirror_mode": {
    "name": "ipython",
    "version": 3
   },
   "file_extension": ".py",
   "mimetype": "text/x-python",
   "name": "python",
   "nbconvert_exporter": "python",
   "pygments_lexer": "ipython3",
   "version": "3.6.7"
  },
  "toc": {
   "base_numbering": 1,
   "nav_menu": {},
   "number_sections": true,
   "sideBar": true,
   "skip_h1_title": false,
   "title_cell": "Table of Contents",
   "title_sidebar": "Contents",
   "toc_cell": false,
   "toc_position": {},
   "toc_section_display": true,
   "toc_window_display": false
  },
  "varInspector": {
   "cols": {
    "lenName": 16,
    "lenType": 16,
    "lenVar": 40
   },
   "kernels_config": {
    "python": {
     "delete_cmd_postfix": "",
     "delete_cmd_prefix": "del ",
     "library": "var_list.py",
     "varRefreshCmd": "print(var_dic_list())"
    },
    "r": {
     "delete_cmd_postfix": ") ",
     "delete_cmd_prefix": "rm(",
     "library": "var_list.r",
     "varRefreshCmd": "cat(var_dic_list()) "
    }
   },
   "types_to_exclude": [
    "module",
    "function",
    "builtin_function_or_method",
    "instance",
    "_Feature"
   ],
   "window_display": false
  }
 },
 "nbformat": 4,
 "nbformat_minor": 2
}
