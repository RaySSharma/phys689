{
 "cells": [
  {
   "cell_type": "markdown",
   "metadata": {
    "toc": true
   },
   "source": [
    "<h1>Table of Contents<span class=\"tocSkip\"></span></h1>\n",
    "<div class=\"toc\"><ul class=\"toc-item\"><li><span><a href=\"#Week-6\" data-toc-modified-id=\"Week-6-1\"><span class=\"toc-item-num\">1&nbsp;&nbsp;</span>Week 6</a></span><ul class=\"toc-item\"><li><span><a href=\"#HW:-Ch5B\" data-toc-modified-id=\"HW:-Ch5B-1.1\"><span class=\"toc-item-num\">1.1&nbsp;&nbsp;</span>HW: Ch5B</a></span></li></ul></li><li><span><a href=\"#Bayesian-Statistical-Inference\" data-toc-modified-id=\"Bayesian-Statistical-Inference-2\"><span class=\"toc-item-num\">2&nbsp;&nbsp;</span>Bayesian Statistical Inference</a></span><ul class=\"toc-item\"><li><span><a href=\"#Bayesian-Priors\" data-toc-modified-id=\"Bayesian-Priors-2.1\"><span class=\"toc-item-num\">2.1&nbsp;&nbsp;</span>Bayesian Priors</a></span></li><li><span><a href=\"#Principle-of-Maximum-Entropy\" data-toc-modified-id=\"Principle-of-Maximum-Entropy-2.2\"><span class=\"toc-item-num\">2.2&nbsp;&nbsp;</span>Principle of Maximum Entropy</a></span></li><li><span><a href=\"#Hierarchical-Bayesian-Analysis\" data-toc-modified-id=\"Hierarchical-Bayesian-Analysis-2.3\"><span class=\"toc-item-num\">2.3&nbsp;&nbsp;</span>Hierarchical Bayesian Analysis</a></span></li></ul></li><li><span><a href=\"#Bayesian-Parameter-Uncertainty-Quantification\" data-toc-modified-id=\"Bayesian-Parameter-Uncertainty-Quantification-3\"><span class=\"toc-item-num\">3&nbsp;&nbsp;</span>Bayesian Parameter Uncertainty Quantification</a></span><ul class=\"toc-item\"><li><span><a href=\"#Marginalization\" data-toc-modified-id=\"Marginalization-3.1\"><span class=\"toc-item-num\">3.1&nbsp;&nbsp;</span>Marginalization</a></span></li><li><span><a href=\"#Bayesian-Model-Selection\" data-toc-modified-id=\"Bayesian-Model-Selection-3.2\"><span class=\"toc-item-num\">3.2&nbsp;&nbsp;</span>Bayesian Model Selection</a></span></li><li><span><a href=\"#Bayesian-Information-Criterion\" data-toc-modified-id=\"Bayesian-Information-Criterion-3.3\"><span class=\"toc-item-num\">3.3&nbsp;&nbsp;</span>Bayesian Information Criterion</a></span></li><li><span><a href=\"#Biases\" data-toc-modified-id=\"Biases-3.4\"><span class=\"toc-item-num\">3.4&nbsp;&nbsp;</span>Biases</a></span></li></ul></li><li><span><a href=\"#Hack\" data-toc-modified-id=\"Hack-4\"><span class=\"toc-item-num\">4&nbsp;&nbsp;</span>Hack</a></span></li></ul></div>"
   ]
  },
  {
   "cell_type": "markdown",
   "metadata": {},
   "source": [
    "# Week 6"
   ]
  },
  {
   "cell_type": "markdown",
   "metadata": {},
   "source": [
    "## HW: Ch5B"
   ]
  },
  {
   "cell_type": "markdown",
   "metadata": {},
   "source": [
    "# Bayesian Statistical Inference\n",
    "\n",
    "**Bayes** - combining initial belief + new data $\\to$ improved belief.\n",
    "Only became feasibile to do Bayesian stats with the advent of computers.\n",
    "\n",
    "_Summary_ - Models and their parameters have probability distributions.\n",
    "\n",
    "**Bayes Rule**:\n",
    "$$p(M,\\vec{\\theta}\\,\\vert\\,D, I) = \\frac{p(D,\\vec{\\theta}\\,\\vert\\,M, I)p(M\\,\\vert\\,\\vec{\\theta}, I)}{p(D\\,\\vert\\,I)},$$\n",
    "where \n",
    "$$p(M\\,\\vert\\,\\vec{\\theta}, I) = p(\\vec{\\theta}\\,\\vert\\,M, I)p(M\\,\\vert\\,I).$$\n",
    "\n",
    "> posterior = likelihood x prior / (probability of data)\n",
    "\n",
    "Our prior term is knowledge of the model we have a priori. In a Bayesian analysis we really should have this information in hand before doing the analysis, but it may be sufficient to use uninformed priors and repeatedly sample.\n",
    "\n",
    "**Maximum A Posteriori** - (MAP) estimate is $\\vec{\\Theta}$ that maximizes the posterior distributions. \n",
    "\n",
    "**Posterior mean 1D** - $\\bar{\\Theta} = \\int \\Theta_p(\\Theta\\,\\vert\\,D,I)d\\Theta$\n",
    "\n",
    "**Posterior mean ND** - Marginalize.\n",
    "\n",
    "These estimators of the posterior reduce the dimensionality of the problem and they lose information!\n",
    "\n",
    "**Credible region** - determined from $p(\\vec{\\theta}|D,I)$ by finding (a,b) such that\n",
    "$$\\int_{-\\infty}^a p(\\theta)d\\theta = \\int^\\infty_b p(\\theta)d\\theta = \\frac{\\alpha}{2},$$\n",
    "where $1-\\alpha$ is our credibility level (e.g, 95%)\n",
    "\n",
    "\n",
    "## Bayesian Priors\n",
    "\n",
    "Ideally, we would use an _informative_ prior based on previous results, e.g, using a Planck cosmology.\n",
    "\n",
    "If we don't have an informative prior, we can use an uninformative prior, e.g, uniform or log-uniform. In the case of uniform priors, in practice you need to include endpoints. The best way of accounting for set endpoints is to redo the analysis and vary the endpoints.\n",
    "\n",
    "In the case of estimating variance, we should use a scale-invariant prior:\n",
    "$$p(\\sigma \\vert I) \\propto \\sigma^{-1}$$\n",
    "\n",
    "When we have weak information on a prior, we can instead use the Principle of Maximum Entropy\n",
    "\n",
    "## Principle of Maximum Entropy\n",
    "\n",
    "We can construct a prior that maximizes Shannon's entropy (construct least informative prior)\n",
    "$$S = - \\sum p_i \\ln(p_i)$$\n",
    "or the continuous version (negative Kullback-Leibler divergence)\n",
    "$$S = - \\int^\\infty_{-\\infty} p(x)\\ln\\left(\\frac{p(x)}{m(x)}\\right)dx$$\n",
    "\n",
    "_Example_: If we only know the mean $\\mu$, the maximum entropy prior is $p(\\theta\\,\\vert\\,\\mu) = \\frac{1}{\\mu}\\exp(-\\theta/\\mu)$$\n",
    "\n",
    "_Example_: If we know the mean and variance, then the maximum entropy solution is a Gaussian!\n",
    "\n",
    "Worth noting that if a prior and likelihood are Gaussian, the posterior is also Gaussian.\n",
    "\n",
    "## Hierarchical Bayesian Analysis\n",
    "\n",
    "Any case where the parameters of priors (a _hyperparameter_) are estimated from the data. Hyperparameters must have _hyperpriors_ that describe the group (population) level probabilistic model.\n",
    "\n",
    "**Empirical Bayes** - Assumes hyperparameters take values that maximimize posterior.\n",
    "\n",
    "> This is cheesy! It retroactively assumes delta-function priors that maximize posterior. Pseudo-frequentist."
   ]
  },
  {
   "cell_type": "markdown",
   "metadata": {},
   "source": [
    "# Bayesian Parameter Uncertainty Quantification\n",
    "\n",
    "## Marginalization\n",
    "\n",
    "Get $p(\\theta_i)$ by integrating $p(\\vec{\\theta}\\,\\vert\\,D,I)$ over all other dimensions, or integrate over \"nuisance parameters\" to get a \"marginal posterior pdf\" that reveals covariance among parameters of interest.\n",
    "\n",
    "A nuisance parameter can be whatever you're marginalizing over at the moment, or a true nuisance parameter that is irrelevant to the analysis at hand. Nuisance parameters can also be treated as parameters with uninteresting covariances!\n",
    "\n",
    "## Bayesian Model Selection\n",
    "\n",
    "There's no framework for testing a single model with Bayesian stats. This is not a good framework for testing a null hypothesis. When determining which of two models is better supported by data, we check the odds ratio:\n",
    "\n",
    "**Odds ratio** - \n",
    "$$O_{21} = \\frac{p(M_2\\,\\vert\\,D,I)}{p(M_2\\,\\vert\\,D,I)}$$\n",
    "where\n",
    "$$p(M_i\\,\\vert\\,D,I) = \\frac{p(D\\,\\vert\\,M_i,I)p(M_i\\,\\vert\\,I)}{p(D\\,\\vert\\,I)}$$\n",
    "\n",
    "**Evidence** -\n",
    "$$E(M) = p(D\\,\\vert\\,M_i,I) = \\int p(D\\,\\vert\\,M_i, \\vec{\\theta}, I)P(\\theta\\,\\vert\\,M_i,I)d\\vec{\\theta}$$\n",
    "This is notoriously difficult to calculate!\n",
    "\n",
    "**Bayes factor** - \n",
    "$$B_{21} = \\frac{E(M_2)}{E(M_1)}$$\n",
    "such that we can write the odds ratio:\n",
    "$$O_{21} = B_{21} \\frac{p(M_2\\,\\vert\\,I)}{p(M_1\\,\\vert\\,I)}$$\n",
    "\n",
    "See Figure (5.1) for a good example of a delta fxn prior vs a uniform prior, and how they perform in two cases.\n",
    "\n",
    "## Bayesian Information Criterion\n",
    "\n",
    "Assumes posterior Gaussian (hopefully the approximation is not bad...), compares $L^0(M_i)$ instead of $E(M_i)$\n",
    "$$BIC = -2\\ln\\left[L^0(M)\\right] + k\\ln N = -2\\ln\\left[E(M)\\right]$$\n",
    "where $k$ is the number of model parameters, $N$ is the number of data points.\n",
    "\n",
    "Choose the model with the smaller value of the $BIC$. In Bayesian analysis, it is better to compute the odds ratio when possible since it does not suffer from the same assumptions.\n",
    "\n",
    "## Biases\n",
    "\n",
    "**Malmquist bias** - is due to truncation in a dataset. Occurs even in the absence of measurement errors.\n",
    "\n",
    "**Eddington-Malmquist bias** - for a typically occurs for a typically steep distribution when we add symmetrical measurement errors (e.g, luminosity function with photometric errors).\n",
    "$$f(x) = h(x) \\star e(x) = \\int h(x')e(x-x')dx'$$\n",
    "See Figure (5.2).\n"
   ]
  },
  {
   "cell_type": "markdown",
   "metadata": {},
   "source": [
    "# Hack"
   ]
  },
  {
   "cell_type": "code",
   "execution_count": 1,
   "metadata": {
    "ExecuteTime": {
     "end_time": "2019-10-14T18:58:06.732885Z",
     "start_time": "2019-10-14T18:58:06.219544Z"
    }
   },
   "outputs": [],
   "source": [
    "import numpy as np\n",
    "from scipy.stats import norm\n",
    "from astroML.resample import bootstrap\n",
    "from astroML.resample import jackknife\n",
    "from astroML.stats import sigmaG\n",
    "import matplotlib.pyplot as plt"
   ]
  },
  {
   "cell_type": "code",
   "execution_count": 2,
   "metadata": {
    "ExecuteTime": {
     "end_time": "2019-10-14T18:58:06.757068Z",
     "start_time": "2019-10-14T18:58:06.752269Z"
    }
   },
   "outputs": [],
   "source": [
    "m = 1000  # number of points\n",
    "n = 10000  # number of bootstraps\n",
    "\n",
    "np.random.seed(123)\n",
    "data = norm(0, 1).rvs(m)"
   ]
  },
  {
   "cell_type": "code",
   "execution_count": 3,
   "metadata": {
    "ExecuteTime": {
     "end_time": "2019-10-14T18:58:08.299412Z",
     "start_time": "2019-10-14T18:58:07.093880Z"
    }
   },
   "outputs": [
    {
     "data": {
      "text/plain": [
       "(array([ 0.01513176,  0.01513176,  0.        ,  0.        ,  0.01513176,\n",
       "         0.04539528,  0.0756588 ,  0.2269764 ,  0.16644936,  0.21184464,\n",
       "         0.33289872,  0.48421633,  0.83224681,  1.31646314,  1.6342301 ,\n",
       "         2.69345332,  4.52439631,  4.67571391,  5.2507208 ,  6.5823157 ,\n",
       "         6.8849509 ,  8.18628228,  8.54944452,  9.20011021, 10.01722527,\n",
       "        10.78894504, 11.87843177, 11.57579657,  9.45735014,  7.02113674,\n",
       "         5.49282896,  4.63031863,  4.78163623,  3.54083189,  3.31385549,\n",
       "         2.08818291,  1.61909834,  0.81711505,  0.74145625,  0.55987513,\n",
       "         0.39342577,  0.21184464,  0.18158112,  0.09079056,  0.04539528,\n",
       "         0.04539528,  0.04539528,  0.        ,  0.03026352,  0.03026352]),\n",
       " array([0.83156675, 0.83817536, 0.84478398, 0.8513926 , 0.85800121,\n",
       "        0.86460983, 0.87121845, 0.87782706, 0.88443568, 0.8910443 ,\n",
       "        0.89765291, 0.90426153, 0.91087015, 0.91747876, 0.92408738,\n",
       "        0.930696  , 0.93730461, 0.94391323, 0.95052184, 0.95713046,\n",
       "        0.96373908, 0.97034769, 0.97695631, 0.98356493, 0.99017354,\n",
       "        0.99678216, 1.00339078, 1.00999939, 1.01660801, 1.02321663,\n",
       "        1.02982524, 1.03643386, 1.04304248, 1.04965109, 1.05625971,\n",
       "        1.06286832, 1.06947694, 1.07608556, 1.08269417, 1.08930279,\n",
       "        1.09591141, 1.10252002, 1.10912864, 1.11573726, 1.12234587,\n",
       "        1.12895449, 1.13556311, 1.14217172, 1.14878034, 1.15538896,\n",
       "        1.16199757]),\n",
       " <a list of 1 Patch objects>)"
      ]
     },
     "execution_count": 3,
     "metadata": {},
     "output_type": "execute_result"
    },
    {
     "data": {
      "image/png": "[encoded data removed]",
      "text/plain": [
       "<matplotlib.figure.Figure at 0x7ff5d7730b70>"
      ]
     },
     "metadata": {},
     "output_type": "display_data"
    }
   ],
   "source": [
    "f, ax = plt.subplots(1, 1, figsize=(6,6))\n",
    "mu1_bootstrap = bootstrap(data, n, np.std, kwargs=dict(axis=1, ddof=1))\n",
    "mu2_bootstrap = bootstrap(data, n, sigmaG, kwargs=dict(axis=1))\n",
    "\n",
    "ax.hist(mu1_bootstrap, bins=50, normed=True, histtype='step',\n",
    "        color='blue', ls='dashed', label=r'$\\sigma\\ {\\rm (std. dev.)}$')\n",
    "ax.hist(mu2_bootstrap, bins=50, normed=True, histtype='step',\n",
    "        color='red', label=r'$\\sigma_G\\ {\\rm (quartile)}$')"
   ]
  },
  {
   "cell_type": "code",
   "execution_count": 4,
   "metadata": {
    "ExecuteTime": {
     "end_time": "2019-10-14T18:58:10.640570Z",
     "start_time": "2019-10-14T18:58:09.930495Z"
    }
   },
   "outputs": [
    {
     "data": {
      "text/plain": [
       "Text(0,0.5,'$N(\\\\sigma^*)$')"
      ]
     },
     "execution_count": 4,
     "metadata": {},
     "output_type": "execute_result"
    },
    {
     "data": {
      "image/png": "[encoded data removed]",
      "text/plain": [
       "<matplotlib.figure.Figure at 0x7ff5d7419c50>"
      ]
     },
     "metadata": {},
     "output_type": "display_data"
    }
   ],
   "source": [
    "f, ax = plt.subplots(1, 1, figsize=(6,6))\n",
    "mu1, sigma_mu1, mu1_raw = jackknife(data, np.std,\n",
    "                                    kwargs=dict(axis=1, ddof=1),\n",
    "                                    return_raw_distribution=True)\n",
    "mu2, sigma_mu2, mu2_raw = jackknife(data, sigmaG,\n",
    "                                    kwargs=dict(axis=1),\n",
    "                                    return_raw_distribution=True)\n",
    "\n",
    "ax.hist(mu1_raw, np.linspace(0.996, 1.008, 100),\n",
    "        label=r'$\\sigma^*\\ {\\rm (std.\\ dev.)}$',\n",
    "        histtype='stepfilled', fc='white', ec='black', normed=False)\n",
    "ax.hist(mu2_raw, np.linspace(0.996, 1.008, 100),\n",
    "        label=r'$\\sigma_G^*\\ {\\rm (quartile)}$',\n",
    "        histtype='stepfilled', fc='gray', normed=False)\n",
    "ax.set_xlabel(r'$\\sigma^*$')\n",
    "ax.set_ylabel(r'$N(\\sigma^*)$')"
   ]
  },
  {
   "cell_type": "code",
   "execution_count": 27,
   "metadata": {
    "ExecuteTime": {
     "end_time": "2019-10-14T19:07:53.544945Z",
     "start_time": "2019-10-14T19:07:53.540058Z"
    }
   },
   "outputs": [],
   "source": [
    "from itertools import combinations"
   ]
  },
  {
   "cell_type": "code",
   "execution_count": 52,
   "metadata": {
    "ExecuteTime": {
     "end_time": "2019-10-14T19:19:51.721793Z",
     "start_time": "2019-10-14T19:18:16.074150Z"
    }
   },
   "outputs": [],
   "source": [
    "pairs = combinations(range(m), 2)\n",
    "alpha_star = []\n",
    "\n",
    "ds = data\n",
    "for p in pairs:\n",
    "    dconc = np.delete(data, [p[0], p[1]])\n",
    "    alpha_star.append(sigmaG(dconc))\n",
    "alpha_star = np.array(alpha_star)"
   ]
  },
  {
   "cell_type": "markdown",
   "metadata": {},
   "source": [
    "Doing a jackknife where we remove every possible non-trivial combination of indices ( e.g, (i,j) is the same as (j,i), and ignore (i,i)).\n",
    "\n",
    "We find that such a 2nd degree jackknife is more robust to discrete statistics!"
   ]
  },
  {
   "cell_type": "code",
   "execution_count": 54,
   "metadata": {
    "ExecuteTime": {
     "end_time": "2019-10-14T19:20:10.186985Z",
     "start_time": "2019-10-14T19:20:09.820220Z"
    }
   },
   "outputs": [
    {
     "data": {
      "text/plain": [
       "Text(0,0.5,'$p(\\\\sigma\\\\,\\\\vert\\\\,x,I)$')"
      ]
     },
     "execution_count": 54,
     "metadata": {},
     "output_type": "execute_result"
    },
    {
     "data": {
      "image/png": "[encoded data removed]",
      "text/plain": [
       "<matplotlib.figure.Figure at 0x7ff5cf773ef0>"
      ]
     },
     "metadata": {},
     "output_type": "display_data"
    }
   ],
   "source": [
    "f, ax = plt.subplots(1, 1, figsize=(6,6))\n",
    "\n",
    "mu1, sigma_mu1, mu1_raw = jackknife(data, np.std,\n",
    "                                    kwargs=dict(axis=1, ddof=1),\n",
    "                                    return_raw_distribution=True)\n",
    "mu2, sigma_mu2, mu2_raw = jackknife(data, sigmaG,\n",
    "                                    kwargs=dict(axis=1),\n",
    "                                    return_raw_distribution=True)\n",
    "\n",
    "x = np.linspace(0.45, 1.15, 1000)\n",
    "\n",
    "pdf1_theory = norm(1, 1. / np.sqrt(2 * (m - 1)))\n",
    "pdf1_jackknife = norm(mu1, sigma_mu1)\n",
    "\n",
    "pdf2_theory = norm(data.std(), 1.06 / np.sqrt(m))\n",
    "pdf2_jackknife = norm(mu2, sigma_mu2)\n",
    "\n",
    "pdf2_test = norm(np.mean(alpha_star), 1.06 / np.sqrt(m))\n",
    "\n",
    "ax.plot(x, pdf1_jackknife.pdf(x),\n",
    "        color='blue', ls='dashed', label=r'$\\sigma\\ {\\rm (std.\\ dev.)}$',\n",
    "        zorder=2)\n",
    "ax.plot(x, pdf1_theory.pdf(x), color='gray', zorder=1)\n",
    "ax.plot(x, pdf2_jackknife.pdf(x),\n",
    "        color='red', label=r'$\\sigma_G\\ {\\rm (quartile)}$', zorder=2)\n",
    "ax.plot(x, pdf2_theory.pdf(x), color='gray', zorder=1)\n",
    "\n",
    "ax.plot(x, pdf2_test.pdf(x), color='k', zorder=1)\n",
    "\n",
    "ax.set_xlabel(r'$\\sigma$')\n",
    "ax.set_ylabel(r'$p(\\sigma\\,\\vert\\,x,I)$')"
   ]
  }
 ],
 "metadata": {
  "hide_input": false,
  "kernelspec": {
   "display_name": "Python [conda env:paper1]",
   "language": "python",
   "name": "conda-env-paper1-py"
  },
  "language_info": {
   "codemirror_mode": {
    "name": "ipython",
    "version": 3
   },
   "file_extension": ".py",
   "mimetype": "text/x-python",
   "name": "python",
   "nbconvert_exporter": "python",
   "pygments_lexer": "ipython3",
   "version": "3.6.5"
  },
  "toc": {
   "base_numbering": 1,
   "nav_menu": {},
   "number_sections": true,
   "sideBar": true,
   "skip_h1_title": false,
   "title_cell": "Table of Contents",
   "title_sidebar": "Contents",
   "toc_cell": true,
   "toc_position": {},
   "toc_section_display": true,
   "toc_window_display": false
  },
  "varInspector": {
   "cols": {
    "lenName": 16,
    "lenType": 16,
    "lenVar": 40
   },
   "kernels_config": {
    "python": {
     "delete_cmd_postfix": "",
     "delete_cmd_prefix": "del ",
     "library": "var_list.py",
     "varRefreshCmd": "print(var_dic_list())"
    },
    "r": {
     "delete_cmd_postfix": ") ",
     "delete_cmd_prefix": "rm(",
     "library": "var_list.r",
     "varRefreshCmd": "cat(var_dic_list()) "
    }
   },
   "types_to_exclude": [
    "module",
    "function",
    "builtin_function_or_method",
    "instance",
    "_Feature"
   ],
   "window_display": false
  }
 },
 "nbformat": 4,
 "nbformat_minor": 2
}
