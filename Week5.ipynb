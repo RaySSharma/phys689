{
 "cells": [
  {
   "cell_type": "markdown",
   "metadata": {
    "toc": true
   },
   "source": [
    "<h1>Table of Contents<span class=\"tocSkip\"></span></h1>\n",
    "<div class=\"toc\"><ul class=\"toc-item\"><li><span><a href=\"#HW-for-Week-6:-Read-ch5A\" data-toc-modified-id=\"HW-for-Week-6:-Read-ch5A-1\"><span class=\"toc-item-num\">1&nbsp;&nbsp;</span>HW for Week 6: Read ch5A</a></span></li><li><span><a href=\"#Goodness-of-Fit\" data-toc-modified-id=\"Goodness-of-Fit-2\"><span class=\"toc-item-num\">2&nbsp;&nbsp;</span>Goodness of Fit</a></span></li><li><span><a href=\"#Computational-Confidence-Estimates\" data-toc-modified-id=\"Computational-Confidence-Estimates-3\"><span class=\"toc-item-num\">3&nbsp;&nbsp;</span>Computational Confidence Estimates</a></span><ul class=\"toc-item\"><li><span><a href=\"#Bootstrapping-(Efron-1979)\" data-toc-modified-id=\"Bootstrapping-(Efron-1979)-3.1\"><span class=\"toc-item-num\">3.1&nbsp;&nbsp;</span>Bootstrapping (Efron 1979)</a></span></li><li><span><a href=\"#Jackknifing-(Tukey-1958)-at-N-1\" data-toc-modified-id=\"Jackknifing-(Tukey-1958)-at-N-1-3.2\"><span class=\"toc-item-num\">3.2&nbsp;&nbsp;</span>Jackknifing (Tukey 1958) at N-1</a></span></li></ul></li><li><span><a href=\"#Hypothesis-Testing\" data-toc-modified-id=\"Hypothesis-Testing-4\"><span class=\"toc-item-num\">4&nbsp;&nbsp;</span>Hypothesis Testing</a></span></li><li><span><a href=\"#Comparison-of-Distributions\" data-toc-modified-id=\"Comparison-of-Distributions-5\"><span class=\"toc-item-num\">5&nbsp;&nbsp;</span>Comparison of Distributions</a></span><ul class=\"toc-item\"><li><span><a href=\"#KS-Test\" data-toc-modified-id=\"KS-Test-5.1\"><span class=\"toc-item-num\">5.1&nbsp;&nbsp;</span>KS Test</a></span></li><li><span><a href=\"#Parametric-Methods\" data-toc-modified-id=\"Parametric-Methods-5.2\"><span class=\"toc-item-num\">5.2&nbsp;&nbsp;</span>Parametric Methods</a></span></li><li><span><a href=\"#Nonparametric\" data-toc-modified-id=\"Nonparametric-5.3\"><span class=\"toc-item-num\">5.3&nbsp;&nbsp;</span>Nonparametric</a></span></li></ul></li><li><span><a href=\"#Histograms\" data-toc-modified-id=\"Histograms-6\"><span class=\"toc-item-num\">6&nbsp;&nbsp;</span>Histograms</a></span><ul class=\"toc-item\"><li><span><a href=\"#Scott's-Rule\" data-toc-modified-id=\"Scott's-Rule-6.1\"><span class=\"toc-item-num\">6.1&nbsp;&nbsp;</span>Scott's Rule</a></span></li><li><span><a href=\"#Freedman-Diaconis-Rule\" data-toc-modified-id=\"Freedman-Diaconis-Rule-6.2\"><span class=\"toc-item-num\">6.2&nbsp;&nbsp;</span>Freedman-Diaconis Rule</a></span></li></ul></li><li><span><a href=\"#Hack\" data-toc-modified-id=\"Hack-7\"><span class=\"toc-item-num\">7&nbsp;&nbsp;</span>Hack</a></span></li></ul></div>"
   ]
  },
  {
   "cell_type": "markdown",
   "metadata": {},
   "source": [
    "# HW for Week 6: Read ch5A"
   ]
  },
  {
   "cell_type": "markdown",
   "metadata": {},
   "source": [
    "# Goodness of Fit\n",
    "    \n",
    "    - How good of a fit is our best fit model?\n",
    "    \n",
    "    - For Gaussian likelihood, we can write the likelihood:\n",
    "$$\\ln L = C - \\frac{1}{2}\\chi^2$$\n",
    "\n",
    "    - This constant is non-trivial, if we are estimating uncertainties on parameters then the constant will include our parameters (e.g, in the case of cosmic variance where the uncertainties are a function of the model)\n",
    "    \n",
    "    - This likelihood means that\n",
    "$2\\ln L$ is $\\chi^2$ distributed with $N-k$ D.o.F, where $N$ is the number of data points, and $k$ is the number of parameters determined from data.\n",
    "\n",
    "    - This mostly applies for 'polynomious' models. Non-polynomious models may not span the space of data, and N-k is a lower bound on the D.o.F.\n",
    "    \n",
    "    - Typically, expect\n",
    "$$\\chi^2_{dof} \\sim \\frac{\\chi^2}{N-k} \\sim 1$$ with stddev $\\sqrt{\\frac{2}{N-k}}$, see Fig 4.1 for good examples\n",
    "\n",
    "    - If multiple models (e.g, Gaussian vs Laplace) can compare their L0. But in models with different numbers of parameters, we need a method of penalizing models with \"too many\" parameters since its unfair to ust compare L0.\n",
    "    \n",
    "    - In case of models with different numbers of parameters, define the AIC (Aikake information criterion):\n",
    "$$AIC = -2 \\ln L^0 + 2k + \\frac{2k(k+1)}{N-k-1}$$,\n",
    "and the model with the smallest value of AIC has the least-penalized model."
   ]
  },
  {
   "cell_type": "markdown",
   "metadata": {},
   "source": [
    "# Computational Confidence Estimates\n",
    "    \n",
    "    - Resample from the observed dataset {xi}, often trying to estimate the true distribution h(x) using distributions f(x) drawn from the data.\n",
    "    \n",
    "## Bootstrapping (Efron 1979)\n",
    "\n",
    "    - Sample your observed data many times, replacing the sampled data and normalize correctly.\n",
    "$$f(x) = \\frac{1}{N}\\sum\\delta(x-x_i)$$\n",
    "This gives an estimate on the underlying probability distribution, albeit with larger uncertainty than when taking more data.\n",
    "\n",
    "## Jackknifing (Tukey 1958) at N-1\n",
    "    \n",
    "    - Sample observed data, taking out one point each time.\n",
    "    \n",
    "    - Gather all N samples containing N-1 data samples. Calculate\n",
    "$$\\alpha_i^{*}$$ to estimate uncertainties on population value $\\alpha$ vs original statistic $\\alpha_N$.\n",
    "    \n",
    "    - A bias-corrected estimate of the population value is given\n",
    "$$\\alpha^j = \\alpha_N + \\Delta \\alpha$$,\n",
    "where\n",
    "$$\\Delta \\alpha = (N-1)\\left(\\alpha_N - \\frac{1}{N} \\sum \\alpha_i^*\\right)$$\n",
    "though this estimate fails to correct certain parameters e.g, mean.\n",
    "\n",
    "    - The uncertainty on $\\alpha^J$ is given\n",
    "$$\\sigma_\\alpha = \\sqrt{\\frac{1}{N(N-1)} \\sum [N\\alpha_N - \\alpha^J - (N-1)\\alpha_i^*]^2}$$\n",
    "\n",
    "    - Jackknife confidence limits follow a known distribution -- Student's t-distribution for \n",
    "$$t = \\frac{\\alpha - \\alpha^J}{\\sigma_\\alpha}$$\n",
    "and $N-1$ DoF\n",
    "\n",
    "    - Jackknife fails when estimating medians and quantiles, where throwing out an outlier does not effect the sample.\n",
    "    \n",
    "    - Bootstrap does not assume asymptotic normality, while Jackknife does, but Jackknife is easier to calculate and automatically removes an estimate of the bias. The best way to choose when approaching a problem is to use both and make sure they give similar results!"
   ]
  },
  {
   "cell_type": "markdown",
   "metadata": {},
   "source": [
    "# Hypothesis Testing\n",
    "    \n",
    "In general we want to reject a null hypothesis, at a significance level $\\alpha$, when $p(x > x_i) \\leq \\alpha$.\n",
    "\n",
    "Note that failure to reject a null hypothesis does not prove it! Only that it is consistent with a null hypothesis.\n",
    "\n",
    "Common errors take two forms by the traditional names:\n",
    "\n",
    "**Type I** - Null hypothesis is incorrectly rejected; false positive, contamination. Can reduce false positives by dropping the significance level / increasing the detection threshold.\n",
    "\n",
    "**Type II** - Null hypothesis is false but not rejected; false negative, incompleteness. The power of a test is given by (1 - false-negative-probability). Can reduce by increasing significance level / decreasing detection threshold.\n",
    "\n",
    "**Completeness** - $\\eta = \\frac{n_{true} - n_{missed}}{n_{true}}$\n",
    "\n",
    "**Contamination** - $\\epsilon = \\frac{n_{spurious}}{n_{source}}$\n",
    "\n",
    "Fig 4.5 gives a simplified example of classification of sources vs background in source detection."
   ]
  },
  {
   "cell_type": "markdown",
   "metadata": {},
   "source": [
    "# Comparison of Distributions\n",
    "\n",
    "**Regression toward the Mean** - \"Measurements very different from the mean will tend toward the mean on repeated measurements.\"\n",
    "\n",
    "For unknown distributions, should use nonparameteric (distribution-free) tests to compare distributions where we don't know how many parameters (or which parameters) go into the model. The most common such test is the Kolmogorov-Smirnov (KS) test.\n",
    "\n",
    "## KS Test\n",
    "\n",
    "Compares F(X) of 2 samples using their maximum distance\n",
    "$$D = \\max|F_1(x_1) - F_2(x_2)|$$\n",
    "This maximum distance is then turned into (using a lookup table) a significance that a null hypothesis of \"drawn from the same distribution\" can be rejected (be careful of saying \"consistent at some significance level,\" this is not correct!)\n",
    "\n",
    "There exists a one-sample KS test, with the hypothesis that f(x) is drawn from a reference distribution h(x). This is different in that only one distribution contains Poisson uncertainties, and the distance defined above may be underesimated.\n",
    "\n",
    "In the case of testing for Gaussianity, KS test is not the best since it is insensitive to the tails of the distribution. The KS test has troubles with CDFs near $x_{min}$ and $x_{max}$, where the distances go to zero. The Anderson-Darling test is more sensitive to the tails of the distribution\n",
    "\n",
    "KS test is not well-defined for more dimensions than 1, but we can calculate 2D CDFs to create a 2D KS-like-test, see Section 4.7.3\n",
    "\n",
    "## Parametric Methods\n",
    "\n",
    "Iff we assuming the underlying distribution is Gaussian, there exist standard tests for comparing means and variances of 2 samples. It's not clear that such standard tests are significantly better than nonparametric tests, and in general nonparametric techniques are preferred.\n",
    "\n",
    "We can compare means while assuming both have sime true $\\sigma$: t-test using (4.71-4.73). The difference in the sample means obeys Student's t-distribution, with $N_{DoF} = N_1 + N_2 - 2$.\n",
    "\n",
    "We can also compare means without assuming same $\\sigma$: Welch's t-test.\n",
    "\n",
    "We can compare variances of two distributions: null hypothesis is $\\sigma_1 = \\sigma_2$, and we assess using an F-test with\n",
    "$$F = \\frac{s_1^2}{s_2^2}$$ which follows Fisher's F-distribution with $d_1 = N_1 - 1$, $d_2 = N_2 - 1$.\n",
    "\n",
    "## Nonparametric\n",
    "\n",
    "**Nonparametric** - Distribution-free, or independent of the number of parameters in the distribution. It can still have a variable number of parameters. Formally,\n",
    "$$f(x) \\to h(x)$$ as $N_{data} \\to \\infty$."
   ]
  },
  {
   "cell_type": "markdown",
   "metadata": {},
   "source": [
    "# Histograms\n",
    "\n",
    "How do we choose the number of bins, or bin-widths. In general, people adjust the histogram bins until it \"looks good\". But there are optimal ways of deciding on our histogram parameters!\n",
    "\n",
    "## Scott's Rule\n",
    "\n",
    "Equation (4.78)\n",
    "$$\\Delta_b = \\frac{3.5\\sigma}{N^{1/3}}$$\n",
    "where $\\sigma$ is the sample standard deviation and $N$ is the sample size. This minimizes the MISE for an underlying Gaussian distribution. There's an optimum number of bins in the first place because we are really optimizing the amount of Poisson fluctuations against the number of data points.\n",
    "\n",
    "## Freedman-Diaconis Rule\n",
    "\n",
    "In the case of non-Gaussian distributions,\n",
    "$$\\Delta_b = \\frac{2\\left(q_{75} - q_{25}\\right)}{N^{1/3}} = \\frac{2.7 \\sigma_G}{N^{1/3}}$$"
   ]
  },
  {
   "cell_type": "markdown",
   "metadata": {},
   "source": [
    "# Hack"
   ]
  },
  {
   "cell_type": "code",
   "execution_count": 1,
   "metadata": {
    "ExecuteTime": {
     "end_time": "2019-10-07T18:21:36.193672Z",
     "start_time": "2019-10-07T18:21:28.409866Z"
    }
   },
   "outputs": [],
   "source": [
    "import numpy as np\n",
    "from scipy import stats\n",
    "from matplotlib import pyplot as plt\n",
    "from matplotlib.patches import Ellipse\n",
    "from astroML.stats import fit_bivariate_normal\n",
    "from astroML.stats.random import bivariate_normal"
   ]
  },
  {
   "cell_type": "code",
   "execution_count": 84,
   "metadata": {
    "ExecuteTime": {
     "end_time": "2019-10-07T18:52:27.137000Z",
     "start_time": "2019-10-07T18:52:27.092922Z"
    }
   },
   "outputs": [],
   "source": [
    "def compute_results(N, Nbootstraps):\n",
    "    ''' Bootstrap method of calculating Kendall-tau correlation coefficient\n",
    "    '''\n",
    "    results = np.zeros((1, 3, Nbootstraps))\n",
    "\n",
    "    for k in range(Nbootstraps):\n",
    "        ind = np.random.randint(N, size=N)\n",
    "        for j, data in enumerate([X, X_out, X_out2]):\n",
    "            x = data[ind, 0]\n",
    "            y = data[ind, 1]\n",
    "            results[0, j, k] = stats.kendalltau(x, y)[0]\n",
    "\n",
    "    return results"
   ]
  },
  {
   "cell_type": "code",
   "execution_count": 85,
   "metadata": {
    "ExecuteTime": {
     "end_time": "2019-10-07T18:53:18.228607Z",
     "start_time": "2019-10-07T18:53:18.219023Z"
    }
   },
   "outputs": [],
   "source": [
    "N = 1000\n",
    "\n",
    "sigma1 = 2.0\n",
    "sigma2 = 1.0\n",
    "mu = [10, 10]\n",
    "alpha_deg = 45.0\n",
    "alpha = alpha_deg * np.pi / 180\n",
    "f = 0.01\n",
    "f2 = 0.10\n",
    "\n",
    "np.random.seed(0)\n",
    "X = bivariate_normal(mu, sigma1, sigma2, alpha, N)"
   ]
  },
  {
   "cell_type": "code",
   "execution_count": 86,
   "metadata": {
    "ExecuteTime": {
     "end_time": "2019-10-07T18:53:19.205610Z",
     "start_time": "2019-10-07T18:53:19.160542Z"
    }
   },
   "outputs": [],
   "source": [
    "X_out = X.copy()\n",
    "X_out[:int(f * N)] = bivariate_normal(mu, 2, 5, 45 * np.pi / 180., int(f * N))\n",
    "X_out2 = X.copy()\n",
    "X_out2[:int(f2 * N)] = bivariate_normal(mu, 2, 5, 45 * np.pi / 180., int(f2 * N))\n",
    "\n",
    "tau_true = 2 / np.pi * np.arcsin(rho_true)"
   ]
  },
  {
   "cell_type": "code",
   "execution_count": 119,
   "metadata": {
    "ExecuteTime": {
     "end_time": "2019-10-07T18:59:13.325956Z",
     "start_time": "2019-10-07T18:59:12.887812Z"
    }
   },
   "outputs": [
    {
     "data": {
      "text/plain": [
       "<matplotlib.legend.Legend at 0x7fdcef7c7400>"
      ]
     },
     "execution_count": 119,
     "metadata": {},
     "output_type": "execute_result"
    },
    {
     "data": {
      "image/png": "[encoded data removed]",
      "text/plain": [
       "<matplotlib.figure.Figure at 0x7fdcef8140f0>"
      ]
     },
     "metadata": {},
     "output_type": "display_data"
    }
   ],
   "source": [
    "Nbootstraps = 20\n",
    "results = compute_results(N, Nbootstraps)\n",
    "\n",
    "fig, ax = plt.subplots(1,1, figsize=(6,6))\n",
    "\n",
    "pct = '%'\n",
    "histargs = (dict(alpha=0.5, label='No Outliers'),\n",
    "            dict(alpha=0.5, label='%i%s Outliers' % (int(f * 100), pct), hatch='\\\\'),\n",
    "            dict(alpha=0.5, label='%i%s Outliers' % (int(f2 * 100), pct), hatch='//'))\n",
    "\n",
    "for j in range(3):\n",
    "    ax.hist(results[0, j], bins='scott', histtype='stepfilled', fc='gray',\n",
    "            normed=True, **histargs[j])\n",
    "    \n",
    "ax.legend(loc=2, fontsize=14)"
   ]
  },
  {
   "cell_type": "code",
   "execution_count": 112,
   "metadata": {
    "ExecuteTime": {
     "end_time": "2019-10-07T18:56:25.035927Z",
     "start_time": "2019-10-07T18:56:24.386050Z"
    }
   },
   "outputs": [
    {
     "data": {
      "text/plain": [
       "<matplotlib.legend.Legend at 0x7fdcefb11be0>"
      ]
     },
     "execution_count": 112,
     "metadata": {},
     "output_type": "execute_result"
    },
    {
     "data": {
      "image/png": "[encoded data removed]",
      "text/plain": [
       "<matplotlib.figure.Figure at 0x7fdcefdf9780>"
      ]
     },
     "metadata": {},
     "output_type": "display_data"
    }
   ],
   "source": [
    "Nbootstraps = 200\n",
    "results = compute_results(N, Nbootstraps)\n",
    "\n",
    "fig, ax = plt.subplots(1,1, figsize=(6,6))\n",
    "\n",
    "pct = '%'\n",
    "histargs = (dict(alpha=0.5, label='No Outliers'),\n",
    "            dict(alpha=0.5, label='%i%s Outliers' % (int(f * 100), pct), hatch='\\\\'),\n",
    "            dict(alpha=0.5, label='%i%s Outliers' % (int(f2 * 100), pct), hatch='//'))\n",
    "\n",
    "for j in range(3):\n",
    "    ax.hist(results[0, j], bins='scott', histtype='stepfilled', fc='gray',\n",
    "            normed=True, **histargs[j])\n",
    "    \n",
    "ax.legend(loc=2, fontsize=14)"
   ]
  },
  {
   "cell_type": "code",
   "execution_count": 113,
   "metadata": {
    "ExecuteTime": {
     "end_time": "2019-10-07T18:56:43.253432Z",
     "start_time": "2019-10-07T18:56:39.217842Z"
    },
    "scrolled": false
   },
   "outputs": [
    {
     "data": {
      "text/plain": [
       "<matplotlib.legend.Legend at 0x7fdcefa6bc88>"
      ]
     },
     "execution_count": 113,
     "metadata": {},
     "output_type": "execute_result"
    },
    {
     "data": {
      "image/png": "[encoded data removed]",
      "text/plain": [
       "<matplotlib.figure.Figure at 0x7fdcefa58f28>"
      ]
     },
     "metadata": {},
     "output_type": "display_data"
    }
   ],
   "source": [
    "Nbootstraps = 2000\n",
    "results = compute_results(N, Nbootstraps)\n",
    "\n",
    "fig, ax = plt.subplots(1,1, figsize=(6,6))\n",
    "\n",
    "pct = '%'\n",
    "histargs = (dict(alpha=0.5, label='No Outliers'),\n",
    "            dict(alpha=0.5, label='%i%s Outliers' % (int(f * 100), pct), hatch='\\\\'),\n",
    "            dict(alpha=0.5, label='%i%s Outliers' % (int(f2 * 100), pct), hatch='//'))\n",
    "\n",
    "for j in range(3):\n",
    "    ax.hist(results[0, j], bins='scott', histtype='stepfilled', fc='gray',\n",
    "            normed=True, **histargs[j])\n",
    "    \n",
    "ax.legend(loc=2, fontsize=14)"
   ]
  },
  {
   "cell_type": "code",
   "execution_count": null,
   "metadata": {},
   "outputs": [],
   "source": []
  }
 ],
 "metadata": {
  "anaconda-cloud": {},
  "hide_input": false,
  "kernelspec": {
   "display_name": "Python [conda env:paper1]",
   "language": "python",
   "name": "conda-env-paper1-py"
  },
  "language_info": {
   "codemirror_mode": {
    "name": "ipython",
    "version": 3
   },
   "file_extension": ".py",
   "mimetype": "text/x-python",
   "name": "python",
   "nbconvert_exporter": "python",
   "pygments_lexer": "ipython3",
   "version": "3.6.5"
  },
  "toc": {
   "base_numbering": 1,
   "nav_menu": {},
   "number_sections": true,
   "sideBar": true,
   "skip_h1_title": false,
   "title_cell": "Table of Contents",
   "title_sidebar": "Contents",
   "toc_cell": true,
   "toc_position": {},
   "toc_section_display": true,
   "toc_window_display": true
  },
  "varInspector": {
   "cols": {
    "lenName": 16,
    "lenType": 16,
    "lenVar": 40
   },
   "kernels_config": {
    "python": {
     "delete_cmd_postfix": "",
     "delete_cmd_prefix": "del ",
     "library": "var_list.py",
     "varRefreshCmd": "print(var_dic_list())"
    },
    "r": {
     "delete_cmd_postfix": ") ",
     "delete_cmd_prefix": "rm(",
     "library": "var_list.r",
     "varRefreshCmd": "cat(var_dic_list()) "
    }
   },
   "types_to_exclude": [
    "module",
    "function",
    "builtin_function_or_method",
    "instance",
    "_Feature"
   ],
   "window_display": false
  }
 },
 "nbformat": 4,
 "nbformat_minor": 2
}
