{
 "cells": [
  {
   "cell_type": "markdown",
   "metadata": {
    "toc": true
   },
   "source": [
    "<h1>Table of Contents<span class=\"tocSkip\"></span></h1>\n",
    "<div class=\"toc\"><ul class=\"toc-item\"><li><span><a href=\"#HW-for-Week-5:-Read-Ch4B\" data-toc-modified-id=\"HW-for-Week-5:-Read-Ch4B-1\"><span class=\"toc-item-num\">1&nbsp;&nbsp;</span>HW for Week 5: Read Ch4B</a></span></li><li><span><a href=\"#Multivariate-Gaussian-Distribution\" data-toc-modified-id=\"Multivariate-Gaussian-Distribution-2\"><span class=\"toc-item-num\">2&nbsp;&nbsp;</span>Multivariate Gaussian Distribution</a></span></li><li><span><a href=\"#Correlation-Coefficients\" data-toc-modified-id=\"Correlation-Coefficients-3\"><span class=\"toc-item-num\">3&nbsp;&nbsp;</span>Correlation Coefficients</a></span><ul class=\"toc-item\"><li><span><a href=\"#Pearson\" data-toc-modified-id=\"Pearson-3.1\"><span class=\"toc-item-num\">3.1&nbsp;&nbsp;</span>Pearson</a></span></li><li><span><a href=\"#Spearman\" data-toc-modified-id=\"Spearman-3.2\"><span class=\"toc-item-num\">3.2&nbsp;&nbsp;</span>Spearman</a></span></li></ul></li><li><span><a href=\"#Random-Number-Generation\" data-toc-modified-id=\"Random-Number-Generation-4\"><span class=\"toc-item-num\">4&nbsp;&nbsp;</span>Random Number Generation</a></span><ul class=\"toc-item\"><li><span><a href=\"#1D\" data-toc-modified-id=\"1D-4.1\"><span class=\"toc-item-num\">4.1&nbsp;&nbsp;</span>1D</a></span></li><li><span><a href=\"#2D\" data-toc-modified-id=\"2D-4.2\"><span class=\"toc-item-num\">4.2&nbsp;&nbsp;</span>2D</a></span></li></ul></li><li><span><a href=\"#Classical-(Frequentist)-Statistical-Inference\" data-toc-modified-id=\"Classical-(Frequentist)-Statistical-Inference-5\"><span class=\"toc-item-num\">5&nbsp;&nbsp;</span>Classical (Frequentist) Statistical Inference</a></span><ul class=\"toc-item\"><li><span><a href=\"#Frequentist-Approach:\" data-toc-modified-id=\"Frequentist-Approach:-5.1\"><span class=\"toc-item-num\">5.1&nbsp;&nbsp;</span>Frequentist Approach:</a></span></li><li><span><a href=\"#Bayesian-Approach:\" data-toc-modified-id=\"Bayesian-Approach:-5.2\"><span class=\"toc-item-num\">5.2&nbsp;&nbsp;</span>Bayesian Approach:</a></span></li></ul></li><li><span><a href=\"#Maximum-Likelihood-Estimation\" data-toc-modified-id=\"Maximum-Likelihood-Estimation-6\"><span class=\"toc-item-num\">6&nbsp;&nbsp;</span>Maximum Likelihood Estimation</a></span><ul class=\"toc-item\"><li><span><a href=\"#MLE-Approach\" data-toc-modified-id=\"MLE-Approach-6.1\"><span class=\"toc-item-num\">6.1&nbsp;&nbsp;</span>MLE Approach</a></span><ul class=\"toc-item\"><li><span><a href=\"#MLEstimators-should-have-a-few-characteristics-(as-N-of-data-goes-to-infinity):\" data-toc-modified-id=\"MLEstimators-should-have-a-few-characteristics-(as-N-of-data-goes-to-infinity):-6.1.1\"><span class=\"toc-item-num\">6.1.1&nbsp;&nbsp;</span>MLEstimators should have a few characteristics (as N of data goes to infinity):</a></span></li></ul></li><li><span><a href=\"#MLE-Confidence-Intervals\" data-toc-modified-id=\"MLE-Confidence-Intervals-6.2\"><span class=\"toc-item-num\">6.2&nbsp;&nbsp;</span>MLE Confidence Intervals</a></span></li><li><span><a href=\"#Heteroscedastic-Gaussian-Likelihood\" data-toc-modified-id=\"Heteroscedastic-Gaussian-Likelihood-6.3\"><span class=\"toc-item-num\">6.3&nbsp;&nbsp;</span>Heteroscedastic Gaussian Likelihood</a></span></li></ul></li><li><span><a href=\"#Missing-Data\" data-toc-modified-id=\"Missing-Data-7\"><span class=\"toc-item-num\">7&nbsp;&nbsp;</span>Missing Data</a></span></li><li><span><a href=\"#MLE-in-Frequentist-Analysis\" data-toc-modified-id=\"MLE-in-Frequentist-Analysis-8\"><span class=\"toc-item-num\">8&nbsp;&nbsp;</span>MLE in Frequentist Analysis</a></span><ul class=\"toc-item\"><li><span><a href=\"#Mean-Integrated-Squared-Error\" data-toc-modified-id=\"Mean-Integrated-Squared-Error-8.1\"><span class=\"toc-item-num\">8.1&nbsp;&nbsp;</span>Mean Integrated Squared Error</a></span></li></ul></li><li><span><a href=\"#Hack-Session\" data-toc-modified-id=\"Hack-Session-9\"><span class=\"toc-item-num\">9&nbsp;&nbsp;</span>Hack Session</a></span><ul class=\"toc-item\"><li><span><a href=\"#Fig-3.23\" data-toc-modified-id=\"Fig-3.23-9.1\"><span class=\"toc-item-num\">9.1&nbsp;&nbsp;</span>Fig 3.23</a></span></li><li><span><a href=\"#Residuals\" data-toc-modified-id=\"Residuals-9.2\"><span class=\"toc-item-num\">9.2&nbsp;&nbsp;</span>Residuals</a></span></li></ul></li></ul></div>"
   ]
  },
  {
   "cell_type": "markdown",
   "metadata": {},
   "source": [
    "# HW for Week 5: Read Ch4B\n",
    "    \n",
    "        - Term Project by Oct 2, 1 min pitches Oct 7\n",
    "        \n",
    "        - Needs science goal and proof of feasability\n",
    "        \n",
    "        - May specify dataset and technique -- or have ideas"
   ]
  },
  {
   "cell_type": "markdown",
   "metadata": {},
   "source": [
    "# Multivariate Gaussian Distribution\n",
    "    \n",
    "    - Using matrix notation in M dimensions\n",
    "$$p(\\vec{x} \\vert I) = \\frac{1}{(2\\pi)^{M/2} \\sqrt{det(\\textbf{C}})}\\exp(-\\frac{1}{2}\\textbf{x}^T \\textbf{H} \\textbf{x})$$\n",
    "where $\\textbf{H}$ is the inverse of the covariance $\\textbf{C}$\n",
    "\n",
    "    - The covariance is given\n",
    "$$C_{kj} = \\int x^k x^j p(\\textbf{x}\\vert I)d^M x$$"
   ]
  },
  {
   "cell_type": "markdown",
   "metadata": {},
   "source": [
    "# Correlation Coefficients\n",
    "\n",
    "## Pearson\n",
    "$$r = \\frac{\\sum (x_i - \\bar{x})(y_i - \\bar{y})}{\\sqrt{\\sum(x_i - \\bar{x})^2}\\sqrt{\\sum(y_i - \\bar{y})^2}}$$\n",
    "\n",
    "    - Distribution follows Student's t-dist iff x and y are uncorrelated Gaussian distributed vars\n",
    "    \n",
    "    - Could use this to disprove x and y are not uncorrelated + Gaussian\n",
    "     \n",
    "    - Deficiencies: sensitive to outliers, uncertainties not used\n",
    "    \n",
    "    - Recommendation: use nonparametric correlation tests (e.g, Spearman, Kendall)\n",
    "\n",
    "## Spearman\n",
    "\n",
    "    - Spearman and Kendall use rank correlation rather than actual data values\n",
    "    \n",
    "    - Rank your data and see how correlated the ranks are\n",
    "        \n",
    "    - Spearman is t-distributed iff the variables are uncorrelated (can clearly use this to say variables are uncorrelated, but harder to say they are correlated using this)"
   ]
  },
  {
   "cell_type": "markdown",
   "metadata": {},
   "source": [
    "# Random Number Generation\n",
    "\n",
    "    - Computers can only draw pseudo-random samples from many distributions\n",
    "    \n",
    "    - \"Random\" defaults to a uniform [0, 1) distribution, unless a distribution is specified\n",
    "    \n",
    "## 1D\n",
    "    - To draw random numbers from an arbitrary distribution, calculate the cumulative distribution\n",
    "$f(x) \\to F(x)$\n",
    "    then draw uniform from the cumulative, and transform back.\n",
    "    \n",
    "        - Often need to transform numerically!\n",
    "      \n",
    "## 2D\n",
    "    - If the variables are uncorrelated, then the pdf is separable\n",
    "$$p(x,y) = p(x)p(y)$$\n",
    "    and the 1D case can be done for each piece\n",
    "    \n",
    "    - If multivariate Gaussian, transform to the Principal axes frame and separate\n",
    "    \n",
    "    - Otherwise, draw x0 first w.l.o.g. from the marginal distribution of x. Then, draw y0 from the cumulative conditional distribution:\n",
    "$$H(y \\vert x_0)$$\n",
    "    given by equation (3.112)"
   ]
  },
  {
   "cell_type": "markdown",
   "metadata": {},
   "source": [
    "# Classical (Frequentist) Statistical Inference\n",
    "    \n",
    "**Point estimation**: Based on the data, what is the best estimate of the model parameter.\n",
    "    \n",
    "**Confidence estimation**: What are the confidence intervals of our parameter estimate.\n",
    "    \n",
    "**Hypothesis testing**: Given the data, is our model correct?\n",
    "\n",
    "## Frequentist Approach:\n",
    "\n",
    "    - The probabilities are relative frequencies of real-world events.\n",
    "    \n",
    "    - The parameters are fixed unknown constants (model parameter is pre-determined but not known a-priori).\n",
    "           \n",
    "    - e.g, a 95% confidence interval brackets the true value of a parameter with a limiting frequency of 95% after many trials.\n",
    "    \n",
    "## Bayesian Approach:\n",
    "\n",
    "    - Probabilities are degrees of belief given data.\n",
    "    \n",
    "    - We can discuss or calculate probabilities of parameters and models, not just data.\n",
    "    \n",
    "    - Parameter uncertainties are determined by parameter probability distributions"
   ]
  },
  {
   "cell_type": "markdown",
   "metadata": {},
   "source": [
    "# Maximum Likelihood Estimation\n",
    "\n",
    "    - Likelihood, L, is the probability of observing your data set given a particular set of model parameters\n",
    "$$L = p({x_i}\\,\\vert\\,M(\\theta)) = \\prod p(x_i\\,\\vert\\,M(\\theta))$$\n",
    "    assuming each xi is independent\n",
    "    \n",
    "## MLE Approach\n",
    "    \n",
    "    - Formulate a likelihood\n",
    "    \n",
    "    - Find the model parameters which maximize L\n",
    "$$\\theta^0 = max(p(D\\,\\vert\\,M(\\theta))$$\n",
    "    \n",
    "    - Perform a confidence estimation by obtaining confidence intervals on optimized model parameters (analytically, bootstrap, jackknife, cross-validation)\n",
    "    \n",
    "    - Perform hypothesis tests to assess model viability\n",
    "    \n",
    "### MLEstimators should have a few characteristics (as N of data goes to infinity):\n",
    "\n",
    "**Consistent** - Repeatable and unbiased, i.e, converges to the true parameter values\n",
    "    \n",
    "**Asymptotically Normal** - Central limit theorem, i.e, the distribution of parameter estimates becomes Gaussian\n",
    "    \n",
    "**Minimum Variance** - Achieves the minimum possible uncertainty in the distribution of parameter estimates according to the Cramer-Rao bound for Gaussian distributions\n",
    "\n",
    "## MLE Confidence Intervals\n",
    "    \n",
    "    - From Taylor expansion, where 1st order terms are zero at the optimized parameters.\n",
    "$$\\sigma_{jk} = \\left(-\\frac{d^2\\ln L}{d\\theta_j \\theta_k}\\bigg\\rvert_{\\theta = \\theta^0}\\right)^{-1/2}$$\n",
    "\n",
    "    - Ignore higher order terms of the expansion due to asymptotic normality assumption\n",
    "    \n",
    "**Pitfalls**: Multimodal distributions, discontinuous, highly non-Gaussian, degenerate extrema\n",
    "    \n",
    "    - This formulation of the error matrix equates to the Fisher information matrix, which gives the Cramer-Rao lower bound on variance of model parameters, for any estimator.\n",
    "    \n",
    "    - Note that you have to choose model parameters to evaluate at when making predictions, which is dangerous unless you properly vary your chosen model parameters.\n",
    "\n",
    "## Heteroscedastic Gaussian Likelihood\n",
    "    - The log likelihood can be written\n",
    "$$\\ln L = C - \\sum \\frac{(x_i - \\mu)^2}{2\\sigma_i^2}$$\n",
    "\n",
    "    - the MLE of mu can be written\n",
    "$$\\mu^0 = \\frac{\\sum w_i x_i}{\\sum w_i}$$\n",
    "    for\n",
    "$$w_i = \\sigma_i^{-2}$$\n",
    "    and variances\n",
    "$$\\sigma_\\mu = \\left(\\sum w_i \\right)^{-1/2}$$"
   ]
  },
  {
   "cell_type": "markdown",
   "metadata": {},
   "source": [
    "# Missing Data\n",
    "    \n",
    "**Truncated data** - Have a selection function\n",
    "\n",
    "$$S(x) = 1$$ for $x_{min} < x < x_{max}$\n",
    "$$S(x) = 0$$ otherwise\n",
    "\n",
    "**Censored data** - Failed measurement of known sources\n",
    "\n",
    "    - How can we modify the likelihood estimate so that each datapoint still gives normalized probability?\n",
    "    \n",
    "$$p(x_i\\left.\\right\\vert\\mu, \\sigma, x_{min}, x_{max}) = C(\\mu, x_{min}, x_{max}) \\frac{1}{\\sqrt{2\\pi}\\sigma_i}\\exp\\left(-\\frac{(x_i - \\mu)^2}{2\\sigma_i^2}\\right)$$\n",
    "    where the constant is the inverse probability of getting a measurement:\n",
    "$$C = (p(x_{max}\\,\\vert\\,\\mu\\sigma) - p(x_{min}\\,\\vert\\,\\mu\\sigma))^{-1}$$\n",
    "    \n",
    "    - Such a modification lets us avoid incorrect weighting due to missing data"
   ]
  },
  {
   "cell_type": "markdown",
   "metadata": {},
   "source": [
    "# MLE in Frequentist Analysis\n",
    "\n",
    "    - Frequentist analyses often use cost functions other than L, such as the chi-squared, or:\n",
    "    \n",
    "## Mean Integrated Squared Error\n",
    "\n",
    "$$MISE = \\int [f(x) - h(x)]^2dx$$\n",
    "    where f(x) is an empirical estimate of the PDF, and h(x) is the true PDF"
   ]
  },
  {
   "cell_type": "markdown",
   "metadata": {},
   "source": [
    "# Hack Session"
   ]
  },
  {
   "cell_type": "markdown",
   "metadata": {},
   "source": [
    "## Fig 3.23"
   ]
  },
  {
   "cell_type": "markdown",
   "metadata": {},
   "source": [
    "By eye:\n",
    "$$\\sigma_x \\sim 1$$\n",
    "$$\\sigma_y \\sim 1$$\n",
    "$$\\sigma_{xy} \\sim 2$$\n",
    "$$\\sigma_{1} \\sim 3$$\n",
    "$$\\sigma_{2} \\sim 0.5$$\n",
    "$$\\alpha \\sim \\pi/4$$"
   ]
  },
  {
   "cell_type": "code",
   "execution_count": 25,
   "metadata": {
    "ExecuteTime": {
     "end_time": "2019-09-30T18:14:15.833875Z",
     "start_time": "2019-09-30T18:14:15.818842Z"
    }
   },
   "outputs": [],
   "source": [
    "from astroML.stats import fit_bivariate_normal\n",
    "from astroML.stats.random import bivariate_normal\n",
    "import matplotlib.pyplot as plt\n",
    "from matplotlib.patches import Ellipse\n",
    "import numpy as np"
   ]
  },
  {
   "cell_type": "code",
   "execution_count": 6,
   "metadata": {
    "ExecuteTime": {
     "end_time": "2019-09-30T18:08:58.238693Z",
     "start_time": "2019-09-30T18:08:57.567166Z"
    }
   },
   "outputs": [],
   "source": [
    "N = 1000\n",
    "\n",
    "sigma1 = 2.0\n",
    "sigma2 = 1.0\n",
    "mu = [10, 10]\n",
    "alpha_deg = 45.0\n",
    "alpha = alpha_deg * np.pi / 180\n",
    "\n",
    "np.random.seed(0)\n",
    "X = bivariate_normal(mu, sigma1, sigma2, alpha, N)"
   ]
  },
  {
   "cell_type": "code",
   "execution_count": 67,
   "metadata": {
    "ExecuteTime": {
     "end_time": "2019-09-30T18:29:21.163457Z",
     "start_time": "2019-09-30T18:29:21.152771Z"
    }
   },
   "outputs": [],
   "source": [
    "def sigx(sig1, sig2, alpha):\n",
    "    A = sig1**2 * np.cos(alpha)**2 + sig2**2 * np.sin(alpha)**2\n",
    "    return np.sqrt(A)\n",
    "\n",
    "def sigy(sig1, sig2, alpha):\n",
    "    A = sig1**2 * np.sin(alpha)**2 + sig2**2 * np.cos(alpha)**2\n",
    "    return np.sqrt(A)\n",
    "\n",
    "def sigxy(sig1, sig2, alpha):\n",
    "    return (sig1**2 - sig2**2) * np.sin(alpha) * np.cos(alpha)"
   ]
  },
  {
   "cell_type": "code",
   "execution_count": 71,
   "metadata": {
    "ExecuteTime": {
     "end_time": "2019-09-30T18:30:24.560891Z",
     "start_time": "2019-09-30T18:30:24.066875Z"
    }
   },
   "outputs": [
    {
     "data": {
      "text/plain": [
       "(5.9, 14.1)"
      ]
     },
     "execution_count": 71,
     "metadata": {},
     "output_type": "execute_result"
    },
    {
     "data": {
      "image/png": "[encoded data removed]",
      "text/plain": [
       "<matplotlib.figure.Figure at 0x7f6cc909c668>"
      ]
     },
     "metadata": {},
     "output_type": "display_data"
    }
   ],
   "source": [
    "fig, axes = plt.subplots(1,2, figsize=(8,4), sharex=True, sharey=True)\n",
    "\n",
    "for i, f in enumerate([0.05, 0.15]):\n",
    "    ax = axes.flat[i]\n",
    "    X[:int(f * N)] = bivariate_normal((10, 10), 2, 4, 45 * np.pi / 180., int(f * N))\n",
    "    x, y = X.T\n",
    "    (mu_nr, sigma1_nr, sigma2_nr, alpha_nr) = fit_bivariate_normal(x, y, robust=False)\n",
    "    (mu_r, sigma1_r, sigma2_r, alpha_r) = fit_bivariate_normal(x, y, robust=True)\n",
    "    _ = ax.hist2d(x, y, bins=50, cmap=plt.get_cmap('Greys'))\n",
    "    for Nsig in [1, 3]:\n",
    "            # True fit\n",
    "            E = Ellipse((10, 10), sigma1 * Nsig, sigma2 * Nsig, alpha_deg,\n",
    "                        ec='k', fc='none')\n",
    "            ax1.add_patch(E)\n",
    "\n",
    "            # Non-robust fit\n",
    "            E = Ellipse(mu_nr, sigma1_nr * Nsig, sigma2_nr * Nsig,\n",
    "                        (alpha_nr * 180. / np.pi),\n",
    "                        ec='k', fc='none', linestyle='dotted')\n",
    "            ax1.add_patch(E)\n",
    "\n",
    "            E = Ellipse(mu_r, sigma1_r * Nsig, sigma2_r * Nsig,\n",
    "                        (alpha_r * 180. / np.pi),\n",
    "                        ec='k', fc='none', linestyle='dashed')\n",
    "            ax.add_patch(E)\n",
    "        \n",
    "    ax.text(0.75, 0.3, r'$\\sigma_1$: '+'{:.3g}'.format(sigma1_r), transform=ax.transAxes)\n",
    "    ax.text(0.75, 0.2, r'$\\sigma_2$: '+'{:.3g}'.format(sigma2_r), transform=ax.transAxes)\n",
    "    ax.text(0.75, 0.1, r'$\\alpha$: '+'{:.3g}'.format(alpha_deg), transform=ax.transAxes)\n",
    "    sigmax_r = sigx(sigma1_r, sigma2_r, alpha)\n",
    "    sigmay_r = sigy(sigma1_r, sigma2_r, alpha)\n",
    "    sigmaxy_r = sigxy(sigma1_r, sigma2_r, alpha)\n",
    "    ax.text(0.75, 0.4, r'$\\sigma_x$: '+'{:.3g}'.format(sigmax_r), transform=ax.transAxes)\n",
    "    ax.text(0.75, 0.5, r'$\\sigma_y$: '+'{:.3g}'.format(sigmay_r), transform=ax.transAxes)\n",
    "    ax.text(0.75, 0.6, r'$\\sigma_{xy}$: '+'{:.3g}'.format(sigmaxy_r), transform=ax.transAxes)\n",
    "    \n",
    "ax.set_xlim(5.9,14.1)\n",
    "ax.set_ylim(5.9,14.1)"
   ]
  },
  {
   "cell_type": "code",
   "execution_count": 72,
   "metadata": {
    "ExecuteTime": {
     "end_time": "2019-09-30T18:35:12.831487Z",
     "start_time": "2019-09-30T18:35:12.817289Z"
    }
   },
   "outputs": [],
   "source": [
    "def P1(x, y, mu_x, mu_y, alpha):\n",
    "    A = (x - mu_x) * np.cos(alpha)\n",
    "    B = (y - mu_y) * np.sin(alpha)\n",
    "    return A + B\n",
    "\n",
    "def P2(x, y, mu_x, mu_y, alpha):\n",
    "    A = (x - mu_x) * np.sin(alpha)\n",
    "    B = (y - mu_y) * np.cos(alpha)\n",
    "    return B - A"
   ]
  },
  {
   "cell_type": "markdown",
   "metadata": {},
   "source": [
    "## Residuals"
   ]
  },
  {
   "cell_type": "code",
   "execution_count": 112,
   "metadata": {
    "ExecuteTime": {
     "end_time": "2019-09-30T19:02:21.489043Z",
     "start_time": "2019-09-30T19:02:21.228433Z"
    }
   },
   "outputs": [
    {
     "data": {
      "text/plain": [
       "(array([ 2.,  0.,  2.,  2.,  1.,  2.,  4.,  2.,  3.,  1.,  1.,  5.,  2.,\n",
       "        11.,  4.,  6., 15., 27., 23., 47., 59., 73., 88., 90., 83., 96.,\n",
       "        68., 53., 45., 37., 34., 26., 15., 12.,  4.,  4.,  3.,  3.,  2.,\n",
       "         2.,  3.,  3.,  2.,  2.,  0.,  2.,  1.,  1.,  1.]),\n",
       " array([-6.        , -5.75510204, -5.51020408, -5.26530612, -5.02040816,\n",
       "        -4.7755102 , -4.53061224, -4.28571429, -4.04081633, -3.79591837,\n",
       "        -3.55102041, -3.30612245, -3.06122449, -2.81632653, -2.57142857,\n",
       "        -2.32653061, -2.08163265, -1.83673469, -1.59183673, -1.34693878,\n",
       "        -1.10204082, -0.85714286, -0.6122449 , -0.36734694, -0.12244898,\n",
       "         0.12244898,  0.36734694,  0.6122449 ,  0.85714286,  1.10204082,\n",
       "         1.34693878,  1.59183673,  1.83673469,  2.08163265,  2.32653061,\n",
       "         2.57142857,  2.81632653,  3.06122449,  3.30612245,  3.55102041,\n",
       "         3.79591837,  4.04081633,  4.28571429,  4.53061224,  4.7755102 ,\n",
       "         5.02040816,  5.26530612,  5.51020408,  5.75510204,  6.        ]),\n",
       " <a list of 49 Patch objects>)"
      ]
     },
     "execution_count": 112,
     "metadata": {},
     "output_type": "execute_result"
    },
    {
     "data": {
      "image/png": "[encoded data removed]",
      "text/plain": [
       "<matplotlib.figure.Figure at 0x7f6cc25f3978>"
      ]
     },
     "metadata": {},
     "output_type": "display_data"
    }
   ],
   "source": [
    "fig, ax = plt.subplots(1,1, figsize=(4,4))\n",
    "residuals = P2(x, y, mu_r[0], mu_r[1], alpha_r)\n",
    "bins = np.linspace(-6,6,50)\n",
    "ax.hist(residuals, bins=bins)"
   ]
  },
  {
   "cell_type": "code",
   "execution_count": 108,
   "metadata": {
    "ExecuteTime": {
     "end_time": "2019-09-30T19:02:00.751644Z",
     "start_time": "2019-09-30T19:02:00.727977Z"
    }
   },
   "outputs": [],
   "source": [
    "from scipy.optimize import curve_fit\n",
    "\n",
    "def gaus(x,a,x0,sigma):\n",
    "    return a*np.exp(-(x-x0)**2/(2*sigma**2))"
   ]
  },
  {
   "cell_type": "code",
   "execution_count": 126,
   "metadata": {
    "ExecuteTime": {
     "end_time": "2019-09-30T19:05:25.295142Z",
     "start_time": "2019-09-30T19:05:25.079082Z"
    }
   },
   "outputs": [
    {
     "data": {
      "text/plain": [
       "[<matplotlib.lines.Line2D at 0x7f6cc25a0e48>]"
      ]
     },
     "execution_count": 126,
     "metadata": {},
     "output_type": "execute_result"
    },
    {
     "data": {
      "image/png": "[encoded data removed]",
      "text/plain": [
       "<matplotlib.figure.Figure at 0x7f6cc8c6d7b8>"
      ]
     },
     "metadata": {},
     "output_type": "display_data"
    }
   ],
   "source": [
    "counts, bins = np.histogram(residuals, bins)\n",
    "popt,pcov = curve_fit(gaus,bins[1:],counts,p0=[1,mu_r[0],sigma2_r])\n",
    "plt.plot(bins[1:],counts,'b+:',label='data')\n",
    "plt.plot(bins[1:],gaus(bins[1:],*popt),'ro:',label='fit')"
   ]
  }
 ],
 "metadata": {
  "hide_input": false,
  "kernelspec": {
   "display_name": "Python [conda env:paper1]",
   "language": "python",
   "name": "conda-env-paper1-py"
  },
  "language_info": {
   "codemirror_mode": {
    "name": "ipython",
    "version": 3
   },
   "file_extension": ".py",
   "mimetype": "text/x-python",
   "name": "python",
   "nbconvert_exporter": "python",
   "pygments_lexer": "ipython3",
   "version": "3.6.5"
  },
  "toc": {
   "base_numbering": 1,
   "nav_menu": {},
   "number_sections": true,
   "sideBar": true,
   "skip_h1_title": false,
   "title_cell": "Table of Contents",
   "title_sidebar": "Contents",
   "toc_cell": true,
   "toc_position": {},
   "toc_section_display": true,
   "toc_window_display": false
  },
  "varInspector": {
   "cols": {
    "lenName": 16,
    "lenType": 16,
    "lenVar": 40
   },
   "kernels_config": {
    "python": {
     "delete_cmd_postfix": "",
     "delete_cmd_prefix": "del ",
     "library": "var_list.py",
     "varRefreshCmd": "print(var_dic_list())"
    },
    "r": {
     "delete_cmd_postfix": ") ",
     "delete_cmd_prefix": "rm(",
     "library": "var_list.r",
     "varRefreshCmd": "cat(var_dic_list()) "
    }
   },
   "types_to_exclude": [
    "module",
    "function",
    "builtin_function_or_method",
    "instance",
    "_Feature"
   ],
   "window_display": false
  }
 },
 "nbformat": 4,
 "nbformat_minor": 2
}
